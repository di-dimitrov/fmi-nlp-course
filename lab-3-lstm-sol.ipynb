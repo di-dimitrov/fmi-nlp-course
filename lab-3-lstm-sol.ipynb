{
 "cells": [
  {
   "cell_type": "code",
   "execution_count": 1,
   "metadata": {
    "executionInfo": {
     "elapsed": 11648,
     "status": "ok",
     "timestamp": 1711563273825,
     "user": {
      "displayName": "Dimitar Dimitrov",
      "userId": "12371550662964373042"
     },
     "user_tz": -120
    },
    "id": "UGtXzsPXCf7v"
   },
   "outputs": [
    {
     "name": "stderr",
     "output_type": "stream",
     "text": [
      "c:\\Users\\user\\anaconda3\\envs\\p10\\lib\\site-packages\\tqdm\\auto.py:21: TqdmWarning: IProgress not found. Please update jupyter and ipywidgets. See https://ipywidgets.readthedocs.io/en/stable/user_install.html\n",
      "  from .autonotebook import tqdm as notebook_tqdm\n"
     ]
    }
   ],
   "source": [
    "import pandas as pd\n",
    "import numpy as np\n",
    "\n",
    "import torch\n",
    "import tensorflow as tf\n",
    "\n",
    "from sklearn.feature_extraction.text import TfidfVectorizer\n",
    "from torch import nn\n",
    "from torch.utils.data import Dataset, DataLoader\n",
    "from sklearn.model_selection import train_test_split\n",
    "from tqdm.auto import tqdm"
   ]
  },
  {
   "cell_type": "code",
   "execution_count": 2,
   "metadata": {
    "colab": {
     "base_uri": "https://localhost:8080/",
     "height": 363
    },
    "executionInfo": {
     "elapsed": 286,
     "status": "ok",
     "timestamp": 1711565965126,
     "user": {
      "displayName": "Dimitar Dimitrov",
      "userId": "12371550662964373042"
     },
     "user_tz": -120
    },
    "id": "hjyW6zsjGYlP",
    "outputId": "97850a11-463d-4b05-e2ce-75ab3e275c95"
   },
   "outputs": [
    {
     "data": {
      "text/html": [
       "<div>\n",
       "<style scoped>\n",
       "    .dataframe tbody tr th:only-of-type {\n",
       "        vertical-align: middle;\n",
       "    }\n",
       "\n",
       "    .dataframe tbody tr th {\n",
       "        vertical-align: top;\n",
       "    }\n",
       "\n",
       "    .dataframe thead th {\n",
       "        text-align: right;\n",
       "    }\n",
       "</style>\n",
       "<table border=\"1\" class=\"dataframe\">\n",
       "  <thead>\n",
       "    <tr style=\"text-align: right;\">\n",
       "      <th></th>\n",
       "      <th>id</th>\n",
       "      <th>sentence</th>\n",
       "      <th>label</th>\n",
       "    </tr>\n",
       "  </thead>\n",
       "  <tbody>\n",
       "    <tr>\n",
       "      <th>0</th>\n",
       "      <td>fde9e435-8186-4cb3-8ec1-1be67ddb5f96</td>\n",
       "      <td>\"Трудно е класически оркестър и рок банда да с...</td>\n",
       "      <td>OBJ</td>\n",
       "    </tr>\n",
       "    <tr>\n",
       "      <th>1</th>\n",
       "      <td>bb522430-40f0-4781-9910-92a1aefd013b</td>\n",
       "      <td>Следователно, Москва е пазителка на православн...</td>\n",
       "      <td>OBJ</td>\n",
       "    </tr>\n",
       "    <tr>\n",
       "      <th>2</th>\n",
       "      <td>d6a84f01-9153-4f3b-bca6-ed2b2edc6a9e</td>\n",
       "      <td>От Washington Post са изготвили подробен матер...</td>\n",
       "      <td>OBJ</td>\n",
       "    </tr>\n",
       "    <tr>\n",
       "      <th>3</th>\n",
       "      <td>3623488a-c528-4509-a92d-9ad4b49099ec</td>\n",
       "      <td>И пак така относно заслугите за постигнатото о...</td>\n",
       "      <td>OBJ</td>\n",
       "    </tr>\n",
       "    <tr>\n",
       "      <th>4</th>\n",
       "      <td>587b0e27-6ac8-433f-9b99-adf8d9c7c0a2</td>\n",
       "      <td>Понякога удобството да разтвориш набързо стран...</td>\n",
       "      <td>OBJ</td>\n",
       "    </tr>\n",
       "    <tr>\n",
       "      <th>5</th>\n",
       "      <td>f2d2aab0-25af-4bef-b678-badd5b390e8d</td>\n",
       "      <td>Вчера Барак Обама, отиващият си тъжен стопанин...</td>\n",
       "      <td>SUBJ</td>\n",
       "    </tr>\n",
       "    <tr>\n",
       "      <th>6</th>\n",
       "      <td>f94840f8-7fb6-42e3-aa84-0a250d58af5b</td>\n",
       "      <td>Дали защото Първият черен президент на САЩ си ...</td>\n",
       "      <td>SUBJ</td>\n",
       "    </tr>\n",
       "    <tr>\n",
       "      <th>7</th>\n",
       "      <td>b30bd670-07fd-40ac-82d7-c67988f57cc3</td>\n",
       "      <td>И като доказателство за това, гръмна и следващ...</td>\n",
       "      <td>SUBJ</td>\n",
       "    </tr>\n",
       "    <tr>\n",
       "      <th>8</th>\n",
       "      <td>512b57e5-9b65-43a8-8dec-01bef61a3ad6</td>\n",
       "      <td>Последният път, когато Америка се обърна навът...</td>\n",
       "      <td>SUBJ</td>\n",
       "    </tr>\n",
       "    <tr>\n",
       "      <th>9</th>\n",
       "      <td>d6bad64f-59f2-491e-9d99-103d2748d647</td>\n",
       "      <td>Шок, бомба, ужас!</td>\n",
       "      <td>SUBJ</td>\n",
       "    </tr>\n",
       "  </tbody>\n",
       "</table>\n",
       "</div>"
      ],
      "text/plain": [
       "                                     id  \\\n",
       "0  fde9e435-8186-4cb3-8ec1-1be67ddb5f96   \n",
       "1  bb522430-40f0-4781-9910-92a1aefd013b   \n",
       "2  d6a84f01-9153-4f3b-bca6-ed2b2edc6a9e   \n",
       "3  3623488a-c528-4509-a92d-9ad4b49099ec   \n",
       "4  587b0e27-6ac8-433f-9b99-adf8d9c7c0a2   \n",
       "5  f2d2aab0-25af-4bef-b678-badd5b390e8d   \n",
       "6  f94840f8-7fb6-42e3-aa84-0a250d58af5b   \n",
       "7  b30bd670-07fd-40ac-82d7-c67988f57cc3   \n",
       "8  512b57e5-9b65-43a8-8dec-01bef61a3ad6   \n",
       "9  d6bad64f-59f2-491e-9d99-103d2748d647   \n",
       "\n",
       "                                            sentence label  \n",
       "0  \"Трудно е класически оркестър и рок банда да с...   OBJ  \n",
       "1  Следователно, Москва е пазителка на православн...   OBJ  \n",
       "2  От Washington Post са изготвили подробен матер...   OBJ  \n",
       "3  И пак така относно заслугите за постигнатото о...   OBJ  \n",
       "4  Понякога удобството да разтвориш набързо стран...   OBJ  \n",
       "5  Вчера Барак Обама, отиващият си тъжен стопанин...  SUBJ  \n",
       "6  Дали защото Първият черен президент на САЩ си ...  SUBJ  \n",
       "7  И като доказателство за това, гръмна и следващ...  SUBJ  \n",
       "8  Последният път, когато Америка се обърна навът...  SUBJ  \n",
       "9                                  Шок, бомба, ужас!  SUBJ  "
      ]
     },
     "execution_count": 2,
     "metadata": {},
     "output_type": "execute_result"
    }
   ],
   "source": [
    "csv = pd.read_csv('./data/train.csv')\n",
    "csv.head(10)"
   ]
  },
  {
   "cell_type": "code",
   "execution_count": 3,
   "metadata": {
    "executionInfo": {
     "elapsed": 255,
     "status": "ok",
     "timestamp": 1711563310065,
     "user": {
      "displayName": "Dimitar Dimitrov",
      "userId": "12371550662964373042"
     },
     "user_tz": -120
    },
    "id": "FbgcQehPGclQ"
   },
   "outputs": [],
   "source": [
    "MAX_FEATURES = 20000\n",
    "MAX_LEN = 30  # cut texts after this number of words (among top max_features most common words)\n",
    "BATCH_SIZE = 32\n",
    "LSTM_UNITS = 128\n",
    "EMBEDDING_SIZE = 300\n",
    "DISPLAY_STEP = 1"
   ]
  },
  {
   "cell_type": "code",
   "execution_count": 4,
   "metadata": {
    "executionInfo": {
     "elapsed": 259,
     "status": "ok",
     "timestamp": 1711563352527,
     "user": {
      "displayName": "Dimitar Dimitrov",
      "userId": "12371550662964373042"
     },
     "user_tz": -120
    },
    "id": "RnRE8hyFH4Bf"
   },
   "outputs": [],
   "source": [
    "csv['label'] = [0 if lb == 'OBJ' else 1 for lb in csv['label'] ]\n",
    "csv['label'] = csv['label'].astype(np.float32)\n",
    "X_train, X_test, y_train, y_test = train_test_split(csv['sentence'].values, csv['label'].values, test_size=0.33, random_state=42)"
   ]
  },
  {
   "cell_type": "code",
   "execution_count": 6,
   "metadata": {
    "executionInfo": {
     "elapsed": 2,
     "status": "ok",
     "timestamp": 1711563645764,
     "user": {
      "displayName": "Dimitar Dimitrov",
      "userId": "12371550662964373042"
     },
     "user_tz": -120
    },
    "id": "3r6M-HJ-ICYn"
   },
   "outputs": [],
   "source": [
    "from tensorflow.keras.preprocessing import sequence\n",
    "from tensorflow.keras.preprocessing.text import Tokenizer"
   ]
  },
  {
   "cell_type": "code",
   "execution_count": 7,
   "metadata": {
    "executionInfo": {
     "elapsed": 250,
     "status": "ok",
     "timestamp": 1711563809593,
     "user": {
      "displayName": "Dimitar Dimitrov",
      "userId": "12371550662964373042"
     },
     "user_tz": -120
    },
    "id": "fnSf3YQ2IWUQ"
   },
   "outputs": [],
   "source": [
    "tokenizer = Tokenizer(num_words=MAX_LEN)\n",
    "tokenizer.fit_on_texts(X_train)\n",
    "X_train = tokenizer.texts_to_sequences(X_train)\n",
    "X_train = sequence.pad_sequences(X_train, maxlen=MAX_LEN)\n",
    "X_test = tokenizer.texts_to_sequences(X_test)\n",
    "X_test = sequence.pad_sequences(X_test, maxlen=MAX_LEN)"
   ]
  },
  {
   "cell_type": "code",
   "execution_count": 8,
   "metadata": {
    "executionInfo": {
     "elapsed": 2,
     "status": "ok",
     "timestamp": 1711564002949,
     "user": {
      "displayName": "Dimitar Dimitrov",
      "userId": "12371550662964373042"
     },
     "user_tz": -120
    },
    "id": "p_ugHtTbJI5g"
   },
   "outputs": [],
   "source": [
    "class LstmDataset(Dataset):\n",
    "  def __init__(self, x, y):\n",
    "        self.x = x\n",
    "        self.y = y\n",
    "  def __len__(self):\n",
    "        return len(self.x)\n",
    "\n",
    "  def __getitem__(self, idx):\n",
    "        return (np.array(self.x[idx], dtype=np.longlong),\n",
    "                np.array(self.y[idx], dtype=np.float32))\n",
    "train_data = LstmDataset(X_train, y_train)\n",
    "test_data = LstmDataset(X_test, y_test)"
   ]
  },
  {
   "cell_type": "code",
   "execution_count": 12,
   "metadata": {
    "executionInfo": {
     "elapsed": 2,
     "status": "ok",
     "timestamp": 1711565705198,
     "user": {
      "displayName": "Dimitar Dimitrov",
      "userId": "12371550662964373042"
     },
     "user_tz": -120
    },
    "id": "EGY0vWn2J-j0"
   },
   "outputs": [],
   "source": [
    "class LSTM(nn.Module):\n",
    "\n",
    "  def __init__(self, embedding_size, hidden_size, words_count, dropout_rate=0.1):\n",
    "    super(LSTM, self).__init__()\n",
    "    self.embedding_size = embedding_size\n",
    "    self.hidden_size = hidden_size\n",
    "\n",
    "\n",
    "    self.word_embedding = nn.Embedding(words_count, self.embedding_size, padding_idx=0)\n",
    "    self.lstm = nn.LSTM(self.embedding_size,\n",
    "                                  self.hidden_size)\n",
    "    self.proj = nn.Linear(self.hidden_size, 1)\n",
    "    self.dropout= nn.Dropout(dropout_rate)\n",
    "\n",
    "  def forward(self, x, lengths):\n",
    "    embeddings = self.word_embedding(x)\n",
    "    padded_input = nn.utils.rnn.pack_padded_sequence(embeddings, lengths, batch_first=True)\n",
    "\n",
    "    seq_output, (h_n, c_n) = self.lstm(padded_input)\n",
    "    seq_output, _ = nn.utils.rnn.pad_packed_sequence(seq_output, batch_first=True)\n",
    "    out = seq_output.sum(dim=1).div(lengths.float().unsqueeze(dim=1))\n",
    "    seq_output = self.dropout(out)\n",
    "    logits = self.proj(seq_output)\n",
    "\n",
    "    return logits\n",
    "\n",
    "model = LSTM(EMBEDDING_SIZE, LSTM_UNITS, MAX_FEATURES)\n",
    "optimizer = torch.optim.Adam(model.parameters(), lr=0.001)\n",
    "loss_fn = nn.BCEWithLogitsLoss()"
   ]
  },
  {
   "cell_type": "code",
   "execution_count": 13,
   "metadata": {
    "executionInfo": {
     "elapsed": 8,
     "status": "ok",
     "timestamp": 1711565707777,
     "user": {
      "displayName": "Dimitar Dimitrov",
      "userId": "12371550662964373042"
     },
     "user_tz": -120
    },
    "id": "aJE7pvlkOCaJ"
   },
   "outputs": [],
   "source": [
    "def collate_fn(batch):\n",
    "  # We want to sort the batch by seq length,\n",
    "  # in order to make the computation more efficient\n",
    "  batch = sorted(batch, key=lambda x: len(x[0]), reverse=True)\n",
    "\n",
    "  inputs = [torch.LongTensor(x[0]) for x in batch]\n",
    "  padded_input = nn.utils.rnn.pad_sequence(inputs, batch_first=True)\n",
    "  lengths = torch.LongTensor([len(x[0]) for x in batch])\n",
    "  y = torch.FloatTensor(np.array([x[1] for x in batch])).reshape(-1, 1)\n",
    "\n",
    "  return padded_input, lengths, y"
   ]
  },
  {
   "cell_type": "code",
   "execution_count": 14,
   "metadata": {
    "colab": {
     "base_uri": "https://localhost:8080/",
     "height": 116,
     "referenced_widgets": [
      "b55b03ef6c4a4693ac53ba48dc2ff313",
      "2809481261f74cf0baa7e211d8748b67",
      "dd475df50eb849f7862bd6d222c7b1fb",
      "4de8fec9bd6942a2bf675781fedfc00e",
      "50b0384f338140d1b51698c015b2590f",
      "b3d42445824d4f3ab4af3c7fb39d0ba2",
      "44e674b5865a43e49b9fe9bdf4d44dcd",
      "b6e00cbfbd28498c998752aa13f733ef",
      "399475fdcb5c43798a5361d7a317a1d4",
      "27be64c8cf8c4875a53db900c063b7bb",
      "7b121e9adc574e44ae9a3ebea3fadeaa",
      "f202ebd807f54a3094107ec2c0ce1d26",
      "670914b71ac0410d832a13eae260ee97",
      "f6498cf0dfc2479ab31a7c5d260f4569",
      "5bc5a4a76f984c0ab1328a179a9408e0",
      "35a1c8c2e14a4cc880e13b3e1261572a",
      "3e4bb7f70479475784345becafde2300",
      "da700a72cdd3425eb35ff09a95233418",
      "d225c02fc5444606be361c5906447e06",
      "d2d7b29e114748328ba664b0ef8da47a",
      "3ace419471e247778aa2f0baf44d07ee",
      "743a763dbd124a48a51831486dea37d7"
     ]
    },
    "executionInfo": {
     "elapsed": 18433,
     "status": "ok",
     "timestamp": 1711565781080,
     "user": {
      "displayName": "Dimitar Dimitrov",
      "userId": "12371550662964373042"
     },
     "user_tz": -120
    },
    "id": "_OMM8RN7OXjU",
    "outputId": "2c6b9223-9939-43d3-f7a4-54839397584e"
   },
   "outputs": [
    {
     "name": "stderr",
     "output_type": "stream",
     "text": [
      "100%|██████████| 67/67 [00:02<00:00, 26.99it/s]\n"
     ]
    },
    {
     "name": "stdout",
     "output_type": "stream",
     "text": [
      "Epoch: 0001 mean cost=0.687860724\n"
     ]
    },
    {
     "name": "stderr",
     "output_type": "stream",
     "text": [
      "100%|██████████| 67/67 [00:02<00:00, 24.37it/s]"
     ]
    },
    {
     "name": "stdout",
     "output_type": "stream",
     "text": [
      "Epoch: 0002 mean cost=0.678192906\n"
     ]
    },
    {
     "name": "stderr",
     "output_type": "stream",
     "text": [
      "\n"
     ]
    }
   ],
   "source": [
    "def train(model, optimizer,loss_fn, dataset, epochs=10):\n",
    "  cost = []\n",
    "  for epoch in range(1, epochs+1):\n",
    "    model.train()\n",
    "    dataloader = DataLoader(dataset,batch_size=8,shuffle=True,drop_last=False, collate_fn=collate_fn)\n",
    "    for x, l, y in tqdm(dataloader):\n",
    "      optimizer.zero_grad()\n",
    "      y_hat = model(x, l)\n",
    "      loss = loss_fn(y_hat, y)\n",
    "      loss.backward()\n",
    "      optimizer.step()\n",
    "      cost.append(loss.item())\n",
    "    if (epoch) % DISPLAY_STEP == 0:\n",
    "      print(\"Epoch: {:04d} mean cost={:.9f}\".format(epoch, np.mean(cost)))\n",
    "train(model, optimizer, loss_fn, train_data,2)"
   ]
  },
  {
   "cell_type": "code",
   "execution_count": null,
   "metadata": {
    "id": "1v06CLjvPqa4"
   },
   "outputs": [],
   "source": []
  }
 ],
 "metadata": {
  "colab": {
   "authorship_tag": "ABX9TyMH3+hv9VAYyMQ2LnHrWT1M",
   "provenance": []
  },
  "kernelspec": {
   "display_name": "p10",
   "language": "python",
   "name": "python3"
  },
  "language_info": {
   "codemirror_mode": {
    "name": "ipython",
    "version": 3
   },
   "file_extension": ".py",
   "mimetype": "text/x-python",
   "name": "python",
   "nbconvert_exporter": "python",
   "pygments_lexer": "ipython3",
   "version": "3.10.14"
  },
  "widgets": {
   "application/vnd.jupyter.widget-state+json": {
    "27be64c8cf8c4875a53db900c063b7bb": {
     "model_module": "@jupyter-widgets/base",
     "model_module_version": "1.2.0",
     "model_name": "LayoutModel",
     "state": {
      "_model_module": "@jupyter-widgets/base",
      "_model_module_version": "1.2.0",
      "_model_name": "LayoutModel",
      "_view_count": null,
      "_view_module": "@jupyter-widgets/base",
      "_view_module_version": "1.2.0",
      "_view_name": "LayoutView",
      "align_content": null,
      "align_items": null,
      "align_self": null,
      "border": null,
      "bottom": null,
      "display": null,
      "flex": null,
      "flex_flow": null,
      "grid_area": null,
      "grid_auto_columns": null,
      "grid_auto_flow": null,
      "grid_auto_rows": null,
      "grid_column": null,
      "grid_gap": null,
      "grid_row": null,
      "grid_template_areas": null,
      "grid_template_columns": null,
      "grid_template_rows": null,
      "height": null,
      "justify_content": null,
      "justify_items": null,
      "left": null,
      "margin": null,
      "max_height": null,
      "max_width": null,
      "min_height": null,
      "min_width": null,
      "object_fit": null,
      "object_position": null,
      "order": null,
      "overflow": null,
      "overflow_x": null,
      "overflow_y": null,
      "padding": null,
      "right": null,
      "top": null,
      "visibility": null,
      "width": null
     }
    },
    "2809481261f74cf0baa7e211d8748b67": {
     "model_module": "@jupyter-widgets/controls",
     "model_module_version": "1.5.0",
     "model_name": "HTMLModel",
     "state": {
      "_dom_classes": [],
      "_model_module": "@jupyter-widgets/controls",
      "_model_module_version": "1.5.0",
      "_model_name": "HTMLModel",
      "_view_count": null,
      "_view_module": "@jupyter-widgets/controls",
      "_view_module_version": "1.5.0",
      "_view_name": "HTMLView",
      "description": "",
      "description_tooltip": null,
      "layout": "IPY_MODEL_b3d42445824d4f3ab4af3c7fb39d0ba2",
      "placeholder": "​",
      "style": "IPY_MODEL_44e674b5865a43e49b9fe9bdf4d44dcd",
      "value": "100%"
     }
    },
    "35a1c8c2e14a4cc880e13b3e1261572a": {
     "model_module": "@jupyter-widgets/base",
     "model_module_version": "1.2.0",
     "model_name": "LayoutModel",
     "state": {
      "_model_module": "@jupyter-widgets/base",
      "_model_module_version": "1.2.0",
      "_model_name": "LayoutModel",
      "_view_count": null,
      "_view_module": "@jupyter-widgets/base",
      "_view_module_version": "1.2.0",
      "_view_name": "LayoutView",
      "align_content": null,
      "align_items": null,
      "align_self": null,
      "border": null,
      "bottom": null,
      "display": null,
      "flex": null,
      "flex_flow": null,
      "grid_area": null,
      "grid_auto_columns": null,
      "grid_auto_flow": null,
      "grid_auto_rows": null,
      "grid_column": null,
      "grid_gap": null,
      "grid_row": null,
      "grid_template_areas": null,
      "grid_template_columns": null,
      "grid_template_rows": null,
      "height": null,
      "justify_content": null,
      "justify_items": null,
      "left": null,
      "margin": null,
      "max_height": null,
      "max_width": null,
      "min_height": null,
      "min_width": null,
      "object_fit": null,
      "object_position": null,
      "order": null,
      "overflow": null,
      "overflow_x": null,
      "overflow_y": null,
      "padding": null,
      "right": null,
      "top": null,
      "visibility": null,
      "width": null
     }
    },
    "399475fdcb5c43798a5361d7a317a1d4": {
     "model_module": "@jupyter-widgets/controls",
     "model_module_version": "1.5.0",
     "model_name": "ProgressStyleModel",
     "state": {
      "_model_module": "@jupyter-widgets/controls",
      "_model_module_version": "1.5.0",
      "_model_name": "ProgressStyleModel",
      "_view_count": null,
      "_view_module": "@jupyter-widgets/base",
      "_view_module_version": "1.2.0",
      "_view_name": "StyleView",
      "bar_color": null,
      "description_width": ""
     }
    },
    "3ace419471e247778aa2f0baf44d07ee": {
     "model_module": "@jupyter-widgets/base",
     "model_module_version": "1.2.0",
     "model_name": "LayoutModel",
     "state": {
      "_model_module": "@jupyter-widgets/base",
      "_model_module_version": "1.2.0",
      "_model_name": "LayoutModel",
      "_view_count": null,
      "_view_module": "@jupyter-widgets/base",
      "_view_module_version": "1.2.0",
      "_view_name": "LayoutView",
      "align_content": null,
      "align_items": null,
      "align_self": null,
      "border": null,
      "bottom": null,
      "display": null,
      "flex": null,
      "flex_flow": null,
      "grid_area": null,
      "grid_auto_columns": null,
      "grid_auto_flow": null,
      "grid_auto_rows": null,
      "grid_column": null,
      "grid_gap": null,
      "grid_row": null,
      "grid_template_areas": null,
      "grid_template_columns": null,
      "grid_template_rows": null,
      "height": null,
      "justify_content": null,
      "justify_items": null,
      "left": null,
      "margin": null,
      "max_height": null,
      "max_width": null,
      "min_height": null,
      "min_width": null,
      "object_fit": null,
      "object_position": null,
      "order": null,
      "overflow": null,
      "overflow_x": null,
      "overflow_y": null,
      "padding": null,
      "right": null,
      "top": null,
      "visibility": null,
      "width": null
     }
    },
    "3e4bb7f70479475784345becafde2300": {
     "model_module": "@jupyter-widgets/base",
     "model_module_version": "1.2.0",
     "model_name": "LayoutModel",
     "state": {
      "_model_module": "@jupyter-widgets/base",
      "_model_module_version": "1.2.0",
      "_model_name": "LayoutModel",
      "_view_count": null,
      "_view_module": "@jupyter-widgets/base",
      "_view_module_version": "1.2.0",
      "_view_name": "LayoutView",
      "align_content": null,
      "align_items": null,
      "align_self": null,
      "border": null,
      "bottom": null,
      "display": null,
      "flex": null,
      "flex_flow": null,
      "grid_area": null,
      "grid_auto_columns": null,
      "grid_auto_flow": null,
      "grid_auto_rows": null,
      "grid_column": null,
      "grid_gap": null,
      "grid_row": null,
      "grid_template_areas": null,
      "grid_template_columns": null,
      "grid_template_rows": null,
      "height": null,
      "justify_content": null,
      "justify_items": null,
      "left": null,
      "margin": null,
      "max_height": null,
      "max_width": null,
      "min_height": null,
      "min_width": null,
      "object_fit": null,
      "object_position": null,
      "order": null,
      "overflow": null,
      "overflow_x": null,
      "overflow_y": null,
      "padding": null,
      "right": null,
      "top": null,
      "visibility": null,
      "width": null
     }
    },
    "44e674b5865a43e49b9fe9bdf4d44dcd": {
     "model_module": "@jupyter-widgets/controls",
     "model_module_version": "1.5.0",
     "model_name": "DescriptionStyleModel",
     "state": {
      "_model_module": "@jupyter-widgets/controls",
      "_model_module_version": "1.5.0",
      "_model_name": "DescriptionStyleModel",
      "_view_count": null,
      "_view_module": "@jupyter-widgets/base",
      "_view_module_version": "1.2.0",
      "_view_name": "StyleView",
      "description_width": ""
     }
    },
    "4de8fec9bd6942a2bf675781fedfc00e": {
     "model_module": "@jupyter-widgets/controls",
     "model_module_version": "1.5.0",
     "model_name": "HTMLModel",
     "state": {
      "_dom_classes": [],
      "_model_module": "@jupyter-widgets/controls",
      "_model_module_version": "1.5.0",
      "_model_name": "HTMLModel",
      "_view_count": null,
      "_view_module": "@jupyter-widgets/controls",
      "_view_module_version": "1.5.0",
      "_view_name": "HTMLView",
      "description": "",
      "description_tooltip": null,
      "layout": "IPY_MODEL_27be64c8cf8c4875a53db900c063b7bb",
      "placeholder": "​",
      "style": "IPY_MODEL_7b121e9adc574e44ae9a3ebea3fadeaa",
      "value": " 67/67 [00:09&lt;00:00,  7.82it/s]"
     }
    },
    "50b0384f338140d1b51698c015b2590f": {
     "model_module": "@jupyter-widgets/base",
     "model_module_version": "1.2.0",
     "model_name": "LayoutModel",
     "state": {
      "_model_module": "@jupyter-widgets/base",
      "_model_module_version": "1.2.0",
      "_model_name": "LayoutModel",
      "_view_count": null,
      "_view_module": "@jupyter-widgets/base",
      "_view_module_version": "1.2.0",
      "_view_name": "LayoutView",
      "align_content": null,
      "align_items": null,
      "align_self": null,
      "border": null,
      "bottom": null,
      "display": null,
      "flex": null,
      "flex_flow": null,
      "grid_area": null,
      "grid_auto_columns": null,
      "grid_auto_flow": null,
      "grid_auto_rows": null,
      "grid_column": null,
      "grid_gap": null,
      "grid_row": null,
      "grid_template_areas": null,
      "grid_template_columns": null,
      "grid_template_rows": null,
      "height": null,
      "justify_content": null,
      "justify_items": null,
      "left": null,
      "margin": null,
      "max_height": null,
      "max_width": null,
      "min_height": null,
      "min_width": null,
      "object_fit": null,
      "object_position": null,
      "order": null,
      "overflow": null,
      "overflow_x": null,
      "overflow_y": null,
      "padding": null,
      "right": null,
      "top": null,
      "visibility": null,
      "width": null
     }
    },
    "5bc5a4a76f984c0ab1328a179a9408e0": {
     "model_module": "@jupyter-widgets/controls",
     "model_module_version": "1.5.0",
     "model_name": "HTMLModel",
     "state": {
      "_dom_classes": [],
      "_model_module": "@jupyter-widgets/controls",
      "_model_module_version": "1.5.0",
      "_model_name": "HTMLModel",
      "_view_count": null,
      "_view_module": "@jupyter-widgets/controls",
      "_view_module_version": "1.5.0",
      "_view_name": "HTMLView",
      "description": "",
      "description_tooltip": null,
      "layout": "IPY_MODEL_3ace419471e247778aa2f0baf44d07ee",
      "placeholder": "​",
      "style": "IPY_MODEL_743a763dbd124a48a51831486dea37d7",
      "value": " 67/67 [00:09&lt;00:00,  7.98it/s]"
     }
    },
    "670914b71ac0410d832a13eae260ee97": {
     "model_module": "@jupyter-widgets/controls",
     "model_module_version": "1.5.0",
     "model_name": "HTMLModel",
     "state": {
      "_dom_classes": [],
      "_model_module": "@jupyter-widgets/controls",
      "_model_module_version": "1.5.0",
      "_model_name": "HTMLModel",
      "_view_count": null,
      "_view_module": "@jupyter-widgets/controls",
      "_view_module_version": "1.5.0",
      "_view_name": "HTMLView",
      "description": "",
      "description_tooltip": null,
      "layout": "IPY_MODEL_3e4bb7f70479475784345becafde2300",
      "placeholder": "​",
      "style": "IPY_MODEL_da700a72cdd3425eb35ff09a95233418",
      "value": "100%"
     }
    },
    "743a763dbd124a48a51831486dea37d7": {
     "model_module": "@jupyter-widgets/controls",
     "model_module_version": "1.5.0",
     "model_name": "DescriptionStyleModel",
     "state": {
      "_model_module": "@jupyter-widgets/controls",
      "_model_module_version": "1.5.0",
      "_model_name": "DescriptionStyleModel",
      "_view_count": null,
      "_view_module": "@jupyter-widgets/base",
      "_view_module_version": "1.2.0",
      "_view_name": "StyleView",
      "description_width": ""
     }
    },
    "7b121e9adc574e44ae9a3ebea3fadeaa": {
     "model_module": "@jupyter-widgets/controls",
     "model_module_version": "1.5.0",
     "model_name": "DescriptionStyleModel",
     "state": {
      "_model_module": "@jupyter-widgets/controls",
      "_model_module_version": "1.5.0",
      "_model_name": "DescriptionStyleModel",
      "_view_count": null,
      "_view_module": "@jupyter-widgets/base",
      "_view_module_version": "1.2.0",
      "_view_name": "StyleView",
      "description_width": ""
     }
    },
    "b3d42445824d4f3ab4af3c7fb39d0ba2": {
     "model_module": "@jupyter-widgets/base",
     "model_module_version": "1.2.0",
     "model_name": "LayoutModel",
     "state": {
      "_model_module": "@jupyter-widgets/base",
      "_model_module_version": "1.2.0",
      "_model_name": "LayoutModel",
      "_view_count": null,
      "_view_module": "@jupyter-widgets/base",
      "_view_module_version": "1.2.0",
      "_view_name": "LayoutView",
      "align_content": null,
      "align_items": null,
      "align_self": null,
      "border": null,
      "bottom": null,
      "display": null,
      "flex": null,
      "flex_flow": null,
      "grid_area": null,
      "grid_auto_columns": null,
      "grid_auto_flow": null,
      "grid_auto_rows": null,
      "grid_column": null,
      "grid_gap": null,
      "grid_row": null,
      "grid_template_areas": null,
      "grid_template_columns": null,
      "grid_template_rows": null,
      "height": null,
      "justify_content": null,
      "justify_items": null,
      "left": null,
      "margin": null,
      "max_height": null,
      "max_width": null,
      "min_height": null,
      "min_width": null,
      "object_fit": null,
      "object_position": null,
      "order": null,
      "overflow": null,
      "overflow_x": null,
      "overflow_y": null,
      "padding": null,
      "right": null,
      "top": null,
      "visibility": null,
      "width": null
     }
    },
    "b55b03ef6c4a4693ac53ba48dc2ff313": {
     "model_module": "@jupyter-widgets/controls",
     "model_module_version": "1.5.0",
     "model_name": "HBoxModel",
     "state": {
      "_dom_classes": [],
      "_model_module": "@jupyter-widgets/controls",
      "_model_module_version": "1.5.0",
      "_model_name": "HBoxModel",
      "_view_count": null,
      "_view_module": "@jupyter-widgets/controls",
      "_view_module_version": "1.5.0",
      "_view_name": "HBoxView",
      "box_style": "",
      "children": [
       "IPY_MODEL_2809481261f74cf0baa7e211d8748b67",
       "IPY_MODEL_dd475df50eb849f7862bd6d222c7b1fb",
       "IPY_MODEL_4de8fec9bd6942a2bf675781fedfc00e"
      ],
      "layout": "IPY_MODEL_50b0384f338140d1b51698c015b2590f"
     }
    },
    "b6e00cbfbd28498c998752aa13f733ef": {
     "model_module": "@jupyter-widgets/base",
     "model_module_version": "1.2.0",
     "model_name": "LayoutModel",
     "state": {
      "_model_module": "@jupyter-widgets/base",
      "_model_module_version": "1.2.0",
      "_model_name": "LayoutModel",
      "_view_count": null,
      "_view_module": "@jupyter-widgets/base",
      "_view_module_version": "1.2.0",
      "_view_name": "LayoutView",
      "align_content": null,
      "align_items": null,
      "align_self": null,
      "border": null,
      "bottom": null,
      "display": null,
      "flex": null,
      "flex_flow": null,
      "grid_area": null,
      "grid_auto_columns": null,
      "grid_auto_flow": null,
      "grid_auto_rows": null,
      "grid_column": null,
      "grid_gap": null,
      "grid_row": null,
      "grid_template_areas": null,
      "grid_template_columns": null,
      "grid_template_rows": null,
      "height": null,
      "justify_content": null,
      "justify_items": null,
      "left": null,
      "margin": null,
      "max_height": null,
      "max_width": null,
      "min_height": null,
      "min_width": null,
      "object_fit": null,
      "object_position": null,
      "order": null,
      "overflow": null,
      "overflow_x": null,
      "overflow_y": null,
      "padding": null,
      "right": null,
      "top": null,
      "visibility": null,
      "width": null
     }
    },
    "d225c02fc5444606be361c5906447e06": {
     "model_module": "@jupyter-widgets/base",
     "model_module_version": "1.2.0",
     "model_name": "LayoutModel",
     "state": {
      "_model_module": "@jupyter-widgets/base",
      "_model_module_version": "1.2.0",
      "_model_name": "LayoutModel",
      "_view_count": null,
      "_view_module": "@jupyter-widgets/base",
      "_view_module_version": "1.2.0",
      "_view_name": "LayoutView",
      "align_content": null,
      "align_items": null,
      "align_self": null,
      "border": null,
      "bottom": null,
      "display": null,
      "flex": null,
      "flex_flow": null,
      "grid_area": null,
      "grid_auto_columns": null,
      "grid_auto_flow": null,
      "grid_auto_rows": null,
      "grid_column": null,
      "grid_gap": null,
      "grid_row": null,
      "grid_template_areas": null,
      "grid_template_columns": null,
      "grid_template_rows": null,
      "height": null,
      "justify_content": null,
      "justify_items": null,
      "left": null,
      "margin": null,
      "max_height": null,
      "max_width": null,
      "min_height": null,
      "min_width": null,
      "object_fit": null,
      "object_position": null,
      "order": null,
      "overflow": null,
      "overflow_x": null,
      "overflow_y": null,
      "padding": null,
      "right": null,
      "top": null,
      "visibility": null,
      "width": null
     }
    },
    "d2d7b29e114748328ba664b0ef8da47a": {
     "model_module": "@jupyter-widgets/controls",
     "model_module_version": "1.5.0",
     "model_name": "ProgressStyleModel",
     "state": {
      "_model_module": "@jupyter-widgets/controls",
      "_model_module_version": "1.5.0",
      "_model_name": "ProgressStyleModel",
      "_view_count": null,
      "_view_module": "@jupyter-widgets/base",
      "_view_module_version": "1.2.0",
      "_view_name": "StyleView",
      "bar_color": null,
      "description_width": ""
     }
    },
    "da700a72cdd3425eb35ff09a95233418": {
     "model_module": "@jupyter-widgets/controls",
     "model_module_version": "1.5.0",
     "model_name": "DescriptionStyleModel",
     "state": {
      "_model_module": "@jupyter-widgets/controls",
      "_model_module_version": "1.5.0",
      "_model_name": "DescriptionStyleModel",
      "_view_count": null,
      "_view_module": "@jupyter-widgets/base",
      "_view_module_version": "1.2.0",
      "_view_name": "StyleView",
      "description_width": ""
     }
    },
    "dd475df50eb849f7862bd6d222c7b1fb": {
     "model_module": "@jupyter-widgets/controls",
     "model_module_version": "1.5.0",
     "model_name": "FloatProgressModel",
     "state": {
      "_dom_classes": [],
      "_model_module": "@jupyter-widgets/controls",
      "_model_module_version": "1.5.0",
      "_model_name": "FloatProgressModel",
      "_view_count": null,
      "_view_module": "@jupyter-widgets/controls",
      "_view_module_version": "1.5.0",
      "_view_name": "ProgressView",
      "bar_style": "success",
      "description": "",
      "description_tooltip": null,
      "layout": "IPY_MODEL_b6e00cbfbd28498c998752aa13f733ef",
      "max": 67,
      "min": 0,
      "orientation": "horizontal",
      "style": "IPY_MODEL_399475fdcb5c43798a5361d7a317a1d4",
      "value": 67
     }
    },
    "f202ebd807f54a3094107ec2c0ce1d26": {
     "model_module": "@jupyter-widgets/controls",
     "model_module_version": "1.5.0",
     "model_name": "HBoxModel",
     "state": {
      "_dom_classes": [],
      "_model_module": "@jupyter-widgets/controls",
      "_model_module_version": "1.5.0",
      "_model_name": "HBoxModel",
      "_view_count": null,
      "_view_module": "@jupyter-widgets/controls",
      "_view_module_version": "1.5.0",
      "_view_name": "HBoxView",
      "box_style": "",
      "children": [
       "IPY_MODEL_670914b71ac0410d832a13eae260ee97",
       "IPY_MODEL_f6498cf0dfc2479ab31a7c5d260f4569",
       "IPY_MODEL_5bc5a4a76f984c0ab1328a179a9408e0"
      ],
      "layout": "IPY_MODEL_35a1c8c2e14a4cc880e13b3e1261572a"
     }
    },
    "f6498cf0dfc2479ab31a7c5d260f4569": {
     "model_module": "@jupyter-widgets/controls",
     "model_module_version": "1.5.0",
     "model_name": "FloatProgressModel",
     "state": {
      "_dom_classes": [],
      "_model_module": "@jupyter-widgets/controls",
      "_model_module_version": "1.5.0",
      "_model_name": "FloatProgressModel",
      "_view_count": null,
      "_view_module": "@jupyter-widgets/controls",
      "_view_module_version": "1.5.0",
      "_view_name": "ProgressView",
      "bar_style": "success",
      "description": "",
      "description_tooltip": null,
      "layout": "IPY_MODEL_d225c02fc5444606be361c5906447e06",
      "max": 67,
      "min": 0,
      "orientation": "horizontal",
      "style": "IPY_MODEL_d2d7b29e114748328ba664b0ef8da47a",
      "value": 67
     }
    }
   }
  }
 },
 "nbformat": 4,
 "nbformat_minor": 0
}
